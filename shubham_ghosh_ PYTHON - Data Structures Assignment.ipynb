{
 "cells": [
  {
   "cell_type": "code",
   "execution_count": 23,
   "id": "ed2892c8-0102-420c-9f3a-c78f72794861",
   "metadata": {},
   "outputs": [
    {
     "name": "stdout",
     "output_type": "stream",
     "text": [
      "Hello, World!\n",
      "Hello, World!\n"
     ]
    }
   ],
   "source": [
    "### Q1. How do you comment code in Python? What are the different types of comments?\n",
    "\n",
    "#Answer: In Python, you can comment code using the hash symbol `#`. There are two types of comments:\n",
    "\n",
    "# 1. This is a single-line comment\n",
    "print(\"Hello, World!\")  # This is also a single-line comment\n",
    "\n",
    "\n",
    "   \n",
    "#2. Multi-line comments: Use triple quotes `'''` or `\"\"\"` to span multiple lines.\n",
    "   \n",
    "\"\"\"\n",
    "   This is a multi-line comment.\n",
    "   It can span multiple lines.\n",
    "   \"\"\"\n",
    "print(\"Hello, World!\")\n",
    " "
   ]
  },
  {
   "cell_type": "code",
   "execution_count": 1,
   "id": "adedca9c-abb6-491c-bd1a-6a63938333bd",
   "metadata": {},
   "outputs": [],
   "source": [
    "\n",
    "#Q2. What are variables in Python? How do you declare and assign values to variables?\n",
    "\n",
    "# Answer:Variables in Python are used to store data values. You declare a variable by assigning it a value using the `=` operator.\n",
    "\n",
    "x = 5\n",
    "name = \"Alice\"\n",
    "is_active = True"
   ]
  },
  {
   "cell_type": "code",
   "execution_count": 6,
   "id": "6905e7c0-aebd-4452-8019-c3c22e0f95e1",
   "metadata": {},
   "outputs": [
    {
     "name": "stdout",
     "output_type": "stream",
     "text": [
      "5 123\n",
      "<class 'int'>\n",
      "<class 'int'>\n"
     ]
    }
   ],
   "source": [
    "### Q3. How do you convert one data type to another in Python?\n",
    "\n",
    "#Answer: You can convert one data type to another using built-in functions like `int()`, `float()`, `str()`, `list()`, etc.\n",
    "\n",
    "\n",
    "x = 5\n",
    "y = float(x)  \n",
    "\n",
    "a = \"123\"\n",
    "b = int(a)  \n",
    "print(x,b)\n",
    "print(type(x))\n",
    "print(type(b))"
   ]
  },
  {
   "cell_type": "code",
   "execution_count": 24,
   "id": "45aaa7cb-c7a8-4b39-bfb3-8b2f800280e1",
   "metadata": {},
   "outputs": [
    {
     "name": "stdout",
     "output_type": "stream",
     "text": [
      "Hello, World!\n"
     ]
    }
   ],
   "source": [
    "### Q4. How do you write and execute a Python script from the command line?\n",
    "\n",
    "#Answer:\n",
    "\n",
    "# 1. Write the script: Create a new file with a `.py` extension, for example, `script.py`.\n",
    "#    python\n",
    "   # script.py\n",
    "print(\"Hello, World!\")\n",
    "  \n",
    "\n",
    "# 2. Execute the script: Open the command line, navigate to the directory containing the script, and run:\n",
    "# python script.py\n",
    "   "
   ]
  },
  {
   "cell_type": "code",
   "execution_count": 11,
   "id": "31a52604-db14-47c0-8ffb-7db2b6aad0ef",
   "metadata": {},
   "outputs": [
    {
     "name": "stdout",
     "output_type": "stream",
     "text": [
      "[2, 3]\n"
     ]
    }
   ],
   "source": [
    "### Q5. Given a list `my_list = [1, 2, 3, 4, 5]`, write the code to slice the list and obtain the sub-list `[2, 3]`.\n",
    "\n",
    "# Answer:\n",
    "\n",
    "\n",
    "my_list = [1, 2, 3, 4, 5]\n",
    "sub_list = my_list[1:3]\n",
    "print(sub_list) "
   ]
  },
  {
   "cell_type": "code",
   "execution_count": 12,
   "id": "3e41cdf1-99aa-486f-a6c9-fc3866304e61",
   "metadata": {},
   "outputs": [
    {
     "name": "stdout",
     "output_type": "stream",
     "text": [
      "3.0\n",
      "4.0\n"
     ]
    }
   ],
   "source": [
    "\n",
    "### Q6. What is a complex number in mathematics, and how is it represented in Python?\n",
    "\n",
    "#Answer: A complex number in mathematics is a number that has a real part and an imaginary part. In Python, it is represented as `a + bj` where `a` is the real part and `b` is the imaginary part.\n",
    "\n",
    "\n",
    "z = 3 + 4j\n",
    "print(z.real)  \n",
    "print(z.imag) "
   ]
  },
  {
   "cell_type": "code",
   "execution_count": 13,
   "id": "c9ec952b-5fa7-4549-b8e1-b9fd13e2050c",
   "metadata": {},
   "outputs": [],
   "source": [
    "### Q7. What is the correct way to declare a variable named `age` and assign the value `25` to it?\n",
    "\n",
    "# Answer:\n",
    "\n",
    "\n",
    "age = 25\n"
   ]
  },
  {
   "cell_type": "code",
   "execution_count": 15,
   "id": "ab166e2a-3523-4896-98c4-8a03a1553729",
   "metadata": {},
   "outputs": [],
   "source": [
    "### Q8. Declare a variable named `price` and assign the value `9.99` to it. What data type does this variable belong to?\n",
    "\n",
    "# Answer:\n",
    "\n",
    "\n",
    "price = 9.99\n",
    "# The data type of price is float\n"
   ]
  },
  {
   "cell_type": "code",
   "execution_count": 17,
   "id": "3259f764-7b03-47cf-9e88-ac579c40b8c0",
   "metadata": {},
   "outputs": [
    {
     "name": "stdout",
     "output_type": "stream",
     "text": [
      "Shubham Ghosh\n"
     ]
    }
   ],
   "source": [
    "\n",
    "### Q9. Create a variable named `name` and assign your full name to it as a string. How would you print the value of this variable?\n",
    "\n",
    "# Answer:\n",
    "\n",
    "name = \"Shubham Ghosh\"\n",
    "print(name)  \n"
   ]
  },
  {
   "cell_type": "code",
   "execution_count": 18,
   "id": "f334b81e-71d1-427d-824f-1a62defdcb80",
   "metadata": {},
   "outputs": [
    {
     "name": "stdout",
     "output_type": "stream",
     "text": [
      "World\n"
     ]
    }
   ],
   "source": [
    "### Q10. Given the string `\"Hello, World!\"`, extract the substring `\"World\"`.\n",
    "\n",
    "#Answer:\n",
    "\n",
    "\n",
    "greeting = \"Hello, World!\"\n",
    "substring = greeting[7:12]\n",
    "print(substring)  \n"
   ]
  },
  {
   "cell_type": "code",
   "execution_count": 19,
   "id": "1faeac22-e1d5-495c-bf93-d7a276297fa6",
   "metadata": {},
   "outputs": [],
   "source": [
    "\n",
    "### Q11. Create a variable named \"is_student\" and assign it a boolean value indicating whether you are currently a student or not.\n",
    "\n",
    "#Answer:\n",
    "\n",
    "\n",
    "is_student = False  # Assuming I am currently not a student\n",
    "\n"
   ]
  }
 ],
 "metadata": {
  "kernelspec": {
   "display_name": "Python 3 (ipykernel)",
   "language": "python",
   "name": "python3"
  },
  "language_info": {
   "codemirror_mode": {
    "name": "ipython",
    "version": 3
   },
   "file_extension": ".py",
   "mimetype": "text/x-python",
   "name": "python",
   "nbconvert_exporter": "python",
   "pygments_lexer": "ipython3",
   "version": "3.10.8"
  }
 },
 "nbformat": 4,
 "nbformat_minor": 5
}
